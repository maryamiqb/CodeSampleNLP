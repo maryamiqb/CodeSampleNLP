{
 "cells": [
  {
   "cell_type": "markdown",
   "metadata": {
    "ExecuteTime": {
     "end_time": "2019-02-06T19:08:30.836033Z",
     "start_time": "2019-02-06T19:08:30.429Z"
    }
   },
   "source": [
    "### Crude dataset\n",
    "\n",
    "This data set holds 20 news articles with additional meta information from the Reuters-21578 data set. All documents belong to the topic crude dealing with crude oil."
   ]
  },
  {
   "cell_type": "code",
   "execution_count": 3,
   "metadata": {
    "ExecuteTime": {
     "end_time": "2019-02-06T19:08:30.836033Z",
     "start_time": "2019-02-06T19:08:30.429Z"
    }
   },
   "outputs": [],
   "source": [
    "# load the required library\n",
    "# NOTE: Please ignore the warning message\n",
    "library(tm)\n",
    "\n",
    "# Load data\n",
    "data(crude)\n",
    "\n",
    "# Look at the help file of the dataset\n",
    "?crude"
   ]
  },
  {
   "cell_type": "code",
   "execution_count": 4,
   "metadata": {
    "ExecuteTime": {
     "end_time": "2019-02-06T19:08:34.589190Z",
     "start_time": "2019-02-06T19:08:34.533Z"
    }
   },
   "outputs": [
    {
     "name": "stdout",
     "output_type": "stream",
     "text": [
      "Diamond Shamrock Corp said that\n",
      "effective today it had cut its contract prices for crude oil by\n",
      "1.50 dlrs a barrel.\n",
      "    The reduction brings its posted price for West Texas\n",
      "Intermediate to 16.00 dlrs a barrel, the copany said.\n",
      "    \"The price reduction today was made in the light of falling\n",
      "oil product prices and a weak crude oil market,\" a company\n",
      "spokeswoman said.\n",
      "    Diamond is the latest in a line of U.S. oil companies that\n",
      "have cut its contract, or posted, prices over the last two days\n",
      "citing weak oil markets.\n",
      " Reuter\n"
     ]
    }
   ],
   "source": [
    "# Display the raw text of the first document in the corpus and display\n",
    "writeLines(as.character(crude[[1]]))"
   ]
  },
  {
   "cell_type": "markdown",
   "metadata": {},
   "source": [
    "### Pre-processing\n",
    "\n",
    "In this process, we'll convert documents to lower case and remove punctuations, stopwords and numbers. We'll then perfrom stemming."
   ]
  },
  {
   "cell_type": "code",
   "execution_count": 5,
   "metadata": {
    "ExecuteTime": {
     "end_time": "2019-02-06T19:08:37.710615Z",
     "start_time": "2019-02-06T19:08:37.652Z"
    }
   },
   "outputs": [
    {
     "name": "stdout",
     "output_type": "stream",
     "text": [
      "diamond shamrock corp said that\n",
      "effective today it had cut its contract prices for crude oil by\n",
      "1.50 dlrs a barrel.\n",
      "    the reduction brings its posted price for west texas\n",
      "intermediate to 16.00 dlrs a barrel, the copany said.\n",
      "    \"the price reduction today was made in the light of falling\n",
      "oil product prices and a weak crude oil market,\" a company\n",
      "spokeswoman said.\n",
      "    diamond is the latest in a line of u.s. oil companies that\n",
      "have cut its contract, or posted, prices over the last two days\n",
      "citing weak oil markets.\n",
      " reuter\n"
     ]
    }
   ],
   "source": [
    "# Transform document words to lower case\n",
    "crude <- tm_map(crude, content_transformer(tolower))\n",
    "writeLines(as.character(crude[[1]]))"
   ]
  },
  {
   "cell_type": "code",
   "execution_count": 6,
   "metadata": {
    "ExecuteTime": {
     "end_time": "2019-02-06T19:08:39.910892Z",
     "start_time": "2019-02-06T19:08:39.849Z"
    }
   },
   "outputs": [
    {
     "name": "stdout",
     "output_type": "stream",
     "text": [
      "diamond shamrock corp said that\n",
      "effective today it had cut its contract prices for crude oil by\n",
      "150 dlrs a barrel\n",
      "    the reduction brings its posted price for west texas\n",
      "intermediate to 1600 dlrs a barrel the copany said\n",
      "    the price reduction today was made in the light of falling\n",
      "oil product prices and a weak crude oil market a company\n",
      "spokeswoman said\n",
      "    diamond is the latest in a line of us oil companies that\n",
      "have cut its contract or posted prices over the last two days\n",
      "citing weak oil markets\n",
      " reuter\n"
     ]
    }
   ],
   "source": [
    "# Remove punctuation from documents\n",
    "crude <- tm_map(crude, removePunctuation)\n",
    "writeLines(as.character(crude[[1]]))"
   ]
  },
  {
   "cell_type": "code",
   "execution_count": 7,
   "metadata": {
    "ExecuteTime": {
     "end_time": "2019-02-06T19:08:46.115585Z",
     "start_time": "2019-02-06T19:08:45.989Z"
    }
   },
   "outputs": [
    {
     "name": "stdout",
     "output_type": "stream",
     "text": [
      "diamond shamrock corp said \n",
      "effective today   cut  contract prices  crude oil \n",
      "150 dlrs  barrel\n",
      "     reduction brings  posted price  west texas\n",
      "intermediate  1600 dlrs  barrel  copany said\n",
      "     price reduction today  made   light  falling\n",
      "oil product prices   weak crude oil market  company\n",
      "spokeswoman said\n",
      "    diamond   latest   line  us oil companies \n",
      " cut  contract  posted prices   last two days\n",
      "citing weak oil markets\n",
      " reuter\n"
     ]
    }
   ],
   "source": [
    "# Remove stopwords from the corpus\n",
    "crude <- tm_map(crude, removeWords, stopwords(\"english\"))\n",
    "writeLines(as.character(crude[[1]]))"
   ]
  },
  {
   "cell_type": "code",
   "execution_count": 8,
   "metadata": {
    "ExecuteTime": {
     "end_time": "2019-02-06T19:08:46.710626Z",
     "start_time": "2019-02-06T19:08:46.650Z"
    }
   },
   "outputs": [
    {
     "name": "stdout",
     "output_type": "stream",
     "text": [
      "diamond shamrock corp said \n",
      "effective today   cut  contract prices  crude oil \n",
      " dlrs  barrel\n",
      "     reduction brings  posted price  west texas\n",
      "intermediate   dlrs  barrel  copany said\n",
      "     price reduction today  made   light  falling\n",
      "oil product prices   weak crude oil market  company\n",
      "spokeswoman said\n",
      "    diamond   latest   line  us oil companies \n",
      " cut  contract  posted prices   last two days\n",
      "citing weak oil markets\n",
      " reuter\n"
     ]
    }
   ],
   "source": [
    "# Remove numbers from the corpus\n",
    "crude <- tm_map(crude, removeNumbers)\n",
    "writeLines(as.character(crude[[1]]))"
   ]
  },
  {
   "cell_type": "code",
   "execution_count": 9,
   "metadata": {
    "ExecuteTime": {
     "end_time": "2019-02-06T19:08:48.575653Z",
     "start_time": "2019-02-06T19:08:48.503Z"
    }
   },
   "outputs": [
    {
     "name": "stderr",
     "output_type": "stream",
     "text": [
      "Loading required package: SnowballC\n"
     ]
    },
    {
     "name": "stdout",
     "output_type": "stream",
     "text": [
      "diamond shamrock corp said effect today cut contract price crude oil dlrs barrel reduct bring post price west texa intermedi dlrs barrel copani said price reduct today made light fall oil product price weak crude oil market compani spokeswoman said diamond latest line us oil compani cut contract post price last two day cite weak oil market reuter\n"
     ]
    }
   ],
   "source": [
    "# load the required library\n",
    "# NOTE: Please ignore the warning message\n",
    "library(lsa)\n",
    "# Stem the corpus\n",
    "crude <- tm_map(crude, stemDocument, language = \"english\")\n",
    "writeLines(as.character(crude[[1]]))"
   ]
  },
  {
   "cell_type": "markdown",
   "metadata": {
    "ExecuteTime": {
     "end_time": "2019-02-06T19:08:49.265544Z",
     "start_time": "2019-02-06T19:08:49.142Z"
    }
   },
   "source": [
    "### TF-IDF\n",
    "\n",
    "TF-IDF calculates term importance based on its occurrence in a given document."
   ]
  },
  {
   "cell_type": "code",
   "execution_count": 10,
   "metadata": {
    "ExecuteTime": {
     "end_time": "2019-02-06T19:08:49.265544Z",
     "start_time": "2019-02-06T19:08:49.142Z"
    }
   },
   "outputs": [
    {
     "data": {
      "text/plain": [
       "<<DocumentTermMatrix (documents: 20, terms: 782)>>\n",
       "Non-/sparse entries: 1502/14138\n",
       "Sparsity           : 90%\n",
       "Maximal term length: 16\n",
       "Weighting          : term frequency - inverse document frequency (normalized) (tf-idf)"
      ]
     },
     "metadata": {},
     "output_type": "display_data"
    },
    {
     "name": "stdout",
     "output_type": "stream",
     "text": [
      "<<DocumentTermMatrix (documents: 8, terms: 8)>>\n",
      "Non-/sparse entries: 5/59\n",
      "Sparsity           : 92%\n",
      "Maximal term length: 9\n",
      "Weighting          : term frequency - inverse document frequency (normalized) (tf-idf)\n",
      "Sample             :\n",
      "     Terms\n",
      "Docs  abdulaziz       abil abl     abroad accept accord across      activ\n",
      "  127         0 0.00000000   0 0.00000000      0      0      0 0.00000000\n",
      "  144         0 0.02081343   0 0.00000000      0      0      0 0.00000000\n",
      "  191         0 0.00000000   0 0.00000000      0      0      0 0.00000000\n",
      "  194         0 0.00000000   0 0.00000000      0      0      0 0.00000000\n",
      "  211         0 0.00000000   0 0.00000000      0      0      0 0.00000000\n",
      "  236         0 0.03170230   0 0.01668698      0      0      0 0.00000000\n",
      "  237         0 0.00000000   0 0.00000000      0      0      0 0.01277665\n",
      "  242         0 0.00000000   0 0.00000000      0      0      0 0.03818308\n"
     ]
    }
   ],
   "source": [
    "# Build a document-term matrix using TF-IDF and inspect\n",
    "crude.dt <- DocumentTermMatrix(crude, control=list(weighting=weightTfIdf))\n",
    "crude.dt\n",
    "inspect(crude.dt[1:8, 1:8])"
   ]
  },
  {
   "cell_type": "markdown",
   "metadata": {
    "ExecuteTime": {
     "end_time": "2019-02-06T19:08:52.855326Z",
     "start_time": "2019-02-06T19:08:52.745Z"
    }
   },
   "source": [
    "### Cosine similarity\n",
    "\n",
    "Cosine Similarity is used to calculate a score for the similarity between a query and a document in the collection. "
   ]
  },
  {
   "cell_type": "code",
   "execution_count": 11,
   "metadata": {
    "ExecuteTime": {
     "end_time": "2019-02-06T19:08:52.855326Z",
     "start_time": "2019-02-06T19:08:52.745Z"
    }
   },
   "outputs": [
    {
     "data": {
      "text/html": [
       "<table>\n",
       "<thead><tr><th></th><th scope=col>127</th><th scope=col>144</th><th scope=col>191</th><th scope=col>194</th><th scope=col>211</th><th scope=col>236</th><th scope=col>237</th><th scope=col>242</th></tr></thead>\n",
       "<tbody>\n",
       "\t<tr><th scope=row>127</th><td>1.000000000</td><td>0.044101264</td><td>0.171502012</td><td>0.234109138</td><td>0.017396426</td><td>0.04490304 </td><td>0.021734896</td><td>0.008863279</td></tr>\n",
       "\t<tr><th scope=row>144</th><td>0.044101264</td><td>1.000000000</td><td>0.005495630</td><td>0.006553802</td><td>0.014369444</td><td>0.16843578 </td><td>0.056660180</td><td>0.064470093</td></tr>\n",
       "\t<tr><th scope=row>191</th><td>0.171502012</td><td>0.005495630</td><td>1.000000000</td><td>0.293581671</td><td>0.015709368</td><td>0.02321779 </td><td>0.006743755</td><td>0.001942854</td></tr>\n",
       "\t<tr><th scope=row>194</th><td>0.234109138</td><td>0.006553802</td><td>0.293581671</td><td>1.000000000</td><td>0.019544632</td><td>0.02257741 </td><td>0.034876250</td><td>0.002659559</td></tr>\n",
       "\t<tr><th scope=row>211</th><td>0.017396426</td><td>0.014369444</td><td>0.015709368</td><td>0.019544632</td><td>1.000000000</td><td>0.03027528 </td><td>0.021429912</td><td>0.005676107</td></tr>\n",
       "\t<tr><th scope=row>236</th><td>0.044903040</td><td>0.168435780</td><td>0.023217787</td><td>0.022577411</td><td>0.030275280</td><td>1.00000000 </td><td>0.073052963</td><td>0.124905313</td></tr>\n",
       "\t<tr><th scope=row>237</th><td>0.021734896</td><td>0.056660180</td><td>0.006743755</td><td>0.034876250</td><td>0.021429912</td><td>0.07305296 </td><td>1.000000000</td><td>0.046109463</td></tr>\n",
       "\t<tr><th scope=row>242</th><td>0.008863279</td><td>0.064470093</td><td>0.001942854</td><td>0.002659559</td><td>0.005676107</td><td>0.12490531 </td><td>0.046109463</td><td>1.000000000</td></tr>\n",
       "</tbody>\n",
       "</table>\n"
      ],
      "text/latex": [
       "\\begin{tabular}{r|llllllll}\n",
       "  & 127 & 144 & 191 & 194 & 211 & 236 & 237 & 242\\\\\n",
       "\\hline\n",
       "\t127 & 1.000000000 & 0.044101264 & 0.171502012 & 0.234109138 & 0.017396426 & 0.04490304  & 0.021734896 & 0.008863279\\\\\n",
       "\t144 & 0.044101264 & 1.000000000 & 0.005495630 & 0.006553802 & 0.014369444 & 0.16843578  & 0.056660180 & 0.064470093\\\\\n",
       "\t191 & 0.171502012 & 0.005495630 & 1.000000000 & 0.293581671 & 0.015709368 & 0.02321779  & 0.006743755 & 0.001942854\\\\\n",
       "\t194 & 0.234109138 & 0.006553802 & 0.293581671 & 1.000000000 & 0.019544632 & 0.02257741  & 0.034876250 & 0.002659559\\\\\n",
       "\t211 & 0.017396426 & 0.014369444 & 0.015709368 & 0.019544632 & 1.000000000 & 0.03027528  & 0.021429912 & 0.005676107\\\\\n",
       "\t236 & 0.044903040 & 0.168435780 & 0.023217787 & 0.022577411 & 0.030275280 & 1.00000000  & 0.073052963 & 0.124905313\\\\\n",
       "\t237 & 0.021734896 & 0.056660180 & 0.006743755 & 0.034876250 & 0.021429912 & 0.07305296  & 1.000000000 & 0.046109463\\\\\n",
       "\t242 & 0.008863279 & 0.064470093 & 0.001942854 & 0.002659559 & 0.005676107 & 0.12490531  & 0.046109463 & 1.000000000\\\\\n",
       "\\end{tabular}\n"
      ],
      "text/markdown": [
       "\n",
       "| <!--/--> | 127 | 144 | 191 | 194 | 211 | 236 | 237 | 242 | \n",
       "|---|---|---|---|---|---|---|---|\n",
       "| 127 | 1.000000000 | 0.044101264 | 0.171502012 | 0.234109138 | 0.017396426 | 0.04490304  | 0.021734896 | 0.008863279 | \n",
       "| 144 | 0.044101264 | 1.000000000 | 0.005495630 | 0.006553802 | 0.014369444 | 0.16843578  | 0.056660180 | 0.064470093 | \n",
       "| 191 | 0.171502012 | 0.005495630 | 1.000000000 | 0.293581671 | 0.015709368 | 0.02321779  | 0.006743755 | 0.001942854 | \n",
       "| 194 | 0.234109138 | 0.006553802 | 0.293581671 | 1.000000000 | 0.019544632 | 0.02257741  | 0.034876250 | 0.002659559 | \n",
       "| 211 | 0.017396426 | 0.014369444 | 0.015709368 | 0.019544632 | 1.000000000 | 0.03027528  | 0.021429912 | 0.005676107 | \n",
       "| 236 | 0.044903040 | 0.168435780 | 0.023217787 | 0.022577411 | 0.030275280 | 1.00000000  | 0.073052963 | 0.124905313 | \n",
       "| 237 | 0.021734896 | 0.056660180 | 0.006743755 | 0.034876250 | 0.021429912 | 0.07305296  | 1.000000000 | 0.046109463 | \n",
       "| 242 | 0.008863279 | 0.064470093 | 0.001942854 | 0.002659559 | 0.005676107 | 0.12490531  | 0.046109463 | 1.000000000 | \n",
       "\n",
       "\n"
      ],
      "text/plain": [
       "    127         144         191         194         211         236       \n",
       "127 1.000000000 0.044101264 0.171502012 0.234109138 0.017396426 0.04490304\n",
       "144 0.044101264 1.000000000 0.005495630 0.006553802 0.014369444 0.16843578\n",
       "191 0.171502012 0.005495630 1.000000000 0.293581671 0.015709368 0.02321779\n",
       "194 0.234109138 0.006553802 0.293581671 1.000000000 0.019544632 0.02257741\n",
       "211 0.017396426 0.014369444 0.015709368 0.019544632 1.000000000 0.03027528\n",
       "236 0.044903040 0.168435780 0.023217787 0.022577411 0.030275280 1.00000000\n",
       "237 0.021734896 0.056660180 0.006743755 0.034876250 0.021429912 0.07305296\n",
       "242 0.008863279 0.064470093 0.001942854 0.002659559 0.005676107 0.12490531\n",
       "    237         242        \n",
       "127 0.021734896 0.008863279\n",
       "144 0.056660180 0.064470093\n",
       "191 0.006743755 0.001942854\n",
       "194 0.034876250 0.002659559\n",
       "211 0.021429912 0.005676107\n",
       "236 0.073052963 0.124905313\n",
       "237 1.000000000 0.046109463\n",
       "242 0.046109463 1.000000000"
      ]
     },
     "metadata": {},
     "output_type": "display_data"
    }
   ],
   "source": [
    "# Compute a matrix of cosine similarity scores between each document pair and inspect\n",
    "crude.cos <- cosine(as.matrix(t(crude.dt)))\n",
    "crude.cos[1:8, 1:8]"
   ]
  },
  {
   "cell_type": "markdown",
   "metadata": {},
   "source": [
    "### Additional pre-processing steps\n",
    "\n",
    "Improve the analysis using the suggested steps below! Re-run the analysis after further finessing your data"
   ]
  },
  {
   "cell_type": "code",
   "execution_count": 12,
   "metadata": {
    "ExecuteTime": {
     "end_time": "2019-02-06T19:09:26.875190Z",
     "start_time": "2019-02-06T19:09:26.773Z"
    }
   },
   "outputs": [
    {
     "name": "stdout",
     "output_type": "stream",
     "text": [
      "diamond shamrock corp  effect today cut contract price crude oil dlrs barrel reduct bring post price west texa intermedi dlrs barrel copani  price reduct today made light fall oil product price weak crude oil market compani spokeswoman  diamond latest line us oil compani cut contract post price last two day cite weak oil market reuter\n"
     ]
    }
   ],
   "source": [
    "# Add to stopword list\n",
    "crude <- tm_map(crude, removeWords, c(stopwords(\"english\"), \"said\"))\n",
    "writeLines(as.character(crude[[1]]))"
   ]
  },
  {
   "cell_type": "code",
   "execution_count": 13,
   "metadata": {},
   "outputs": [
    {
     "name": "stdout",
     "output_type": "stream",
     "text": [
      "[1] 1\n",
      "    word found\n",
      "1 copany     1\n",
      "2   dlrs     1\n",
      "3 Reuter     1\n",
      "[1] 2\n",
      "        word found\n",
      "1      Bijan     1\n",
      "2        bpd     1\n",
      "3       CERA     1\n",
      "4    Mizrahi     1\n",
      "5        mln     1\n",
      "6     Mlotok     1\n",
      "7  Moussavar     1\n",
      "8    Rahmani     1\n",
      "9     Reuter     1\n",
      "10   Salomon     1\n",
      "11   Spriggs     1\n",
      "12    Yergin     1\n",
      "[1] 3\n",
      "    word found\n",
      "1    cts     1\n",
      "2   dlrs     1\n",
      "3 Reuter     1\n",
      "4  Swann     1\n",
      "[1] 4\n",
      "    word found\n",
      "1    dlr     1\n",
      "2   dlrs     1\n",
      "3 Reuter     1\n",
      "[1] 5\n",
      "         word found\n",
      "1        dlrs     1\n",
      "2         mln     1\n",
      "3      Reuter     1\n",
      "4 unitholders     1\n",
      "[1] 6\n",
      "           word found\n",
      "1            al     1\n",
      "2        Alvite     1\n",
      "3           bpd     1\n",
      "4          dlrs     1\n",
      "5       Khalifa     1\n",
      "6           mln     1\n",
      "7          opec     1\n",
      "8  organisation     1\n",
      "9         Qabas     1\n",
      "10        qatar     1\n",
      "11       REUTER     1\n",
      "12       rumour     1\n",
      "13        Sabah     1\n",
      "[1] 7\n",
      "         word found\n",
      "1        dlrs     1\n",
      "2     favours     1\n",
      "3 liberalised     1\n",
      "4         mln     1\n",
      "5      REUTER     1\n",
      "[1] 8\n",
      "          word found\n",
      "1       amidst     1\n",
      "2    interbank     1\n",
      "3 organisation     1\n",
      "4       REUTER     1\n",
      "[1] 9\n",
      "             word found\n",
      "1              al     1\n",
      "2            Aziz     1\n",
      "3         defence     1\n",
      "4         Khalifa     1\n",
      "5     rationalise     1\n",
      "6 responsibilites     1\n",
      "7          REUTER     1\n",
      "8           Thani     1\n",
      "[1] 10\n",
      "        word found\n",
      "1         al     1\n",
      "2        bpd     1\n",
      "3       dlrs     1\n",
      "4     Hisham     1\n",
      "5    Khalifa     1\n",
      "6     Lukman     1\n",
      "7        mln     1\n",
      "8      Nazer     1\n",
      "9      Qabas     1\n",
      "10    REUTER     1\n",
      "11   Rilwanu     1\n",
      "12     Sabah     1\n",
      "13 stabilise     1\n",
      "[1] 11\n",
      "       word found\n",
      "1       bpd     1\n",
      "2       CHV     1\n",
      "3       dlr     1\n",
      "4      dlrs     1\n",
      "5    Hisham     1\n",
      "6  Ju'aymah     1\n",
      "7    Jubail     1\n",
      "8  liftings     1\n",
      "9       mln     1\n",
      "10    Nazer     1\n",
      "11     Opec     1\n",
      "12      Ras     1\n",
      "13   REUTER     1\n",
      "14  Tanurah     1\n",
      "15      XON     1\n",
      "16    Yanbu     1\n",
      "[1] 12\n",
      "          word found\n",
      "1 Organiaation     1\n",
      "2       Reuter     1\n",
      "3          UAE     1\n",
      "4          WAM     1\n",
      "[1] 13\n",
      "    word found\n",
      "1 Hisham     1\n",
      "2  Nazer     1\n",
      "3 Reuter     1\n",
      "[1] 14\n",
      "     word found\n",
      "1      al     1\n",
      "2     bpd     1\n",
      "3 Khalifa     1\n",
      "4   Qabas     1\n",
      "5  Reuter     1\n",
      "6   Sabah     1\n",
      "[1] 15\n",
      "       word found\n",
      "1 Paulsboro     1\n",
      "2   refloat     1\n",
      "3    Reuter     1\n",
      "4  Seapride     1\n",
      "[1] 16\n",
      "    word found\n",
      "1   dlrs     1\n",
      "2    mln     1\n",
      "3 Reuter     1\n",
      "[1] 17\n",
      "    word found\n",
      "1   dlrs     1\n",
      "2    mln     1\n",
      "3 Reuter     1\n",
      "[1] 18\n",
      "    word found\n",
      "1 Corp's     1\n",
      "2   dlrs     1\n",
      "3 Reuter     1\n",
      "4 Unocal     1\n",
      "[1] 19\n",
      "       word found\n",
      "1   Capozza     1\n",
      "2      CFTC     1\n",
      "3       EFP     1\n",
      "4 McKiernan     1\n",
      "5     NYMEX     1\n",
      "6    Reuter     1\n",
      "[1] 20\n",
      "          word found\n",
      "1     Fiscales     1\n",
      "2      metrers     1\n",
      "3       metres     1\n",
      "4          mln     1\n",
      "5 Petroliferos     1\n",
      "6       Reuter     1\n",
      "7     totalled     1\n",
      "8  Yacimientos     1\n"
     ]
    }
   ],
   "source": [
    "# load the required library\n",
    "# NOTE: Please ignore the warning message\n",
    "library(spelling)\n",
    "# Check for mispellings/non-standard English words\n",
    "data(crude)\n",
    "for(i in 1:length(crude)){\n",
    "  mispell <- spell_check_text(as.character(crude[[i]]), ignore = character(), lang = \"en_US\")\n",
    "  print(i)\n",
    "  print(mispell);\n",
    "}"
   ]
  },
  {
   "cell_type": "code",
   "execution_count": 14,
   "metadata": {},
   "outputs": [
    {
     "name": "stdout",
     "output_type": "stream",
     "text": [
      "Diamond Shamrock Corp said that\n",
      "effective today it had cut its contract prices for crude oil by\n",
      "1.50 dlrs a barrel.\n",
      "    The reduction brings its posted price for West Texas\n",
      "Intermediate to 16.00 dlrs a barrel, the company said.\n",
      "    \"The price reduction today was made in the light of falling\n",
      "oil product prices and a weak crude oil market,\" a company\n",
      "spokeswoman said.\n",
      "    Diamond is the latest in a line of U.S. oil companies that\n",
      "have cut its contract, or posted, prices over the last two days\n",
      "citing weak oil markets.\n",
      " Reuter\n"
     ]
    }
   ],
   "source": [
    "# Replace mispelled/non-standard words from above with the correct words\n",
    "pattern <- c(\"copany\", \"organiaation\")\n",
    "replacement <- c(\"company\",\"organization\")\n",
    "for(i in 1:2){\n",
    "  crude <- tm_map(crude, content_transformer(gsub), pattern = pattern[i], replacement = replacement[i])\n",
    "}\n",
    "writeLines(as.character(crude[[1]]))"
   ]
  },
  {
   "cell_type": "code",
   "execution_count": 15,
   "metadata": {
    "ExecuteTime": {
     "end_time": "2019-02-06T19:08:53.795404Z",
     "start_time": "2019-02-06T19:08:53.735Z"
    }
   },
   "outputs": [
    {
     "name": "stdout",
     "output_type": "stream",
     "text": [
      "Diamond Shamrock Corp said that\n",
      "effective today it had cut its contract prices for crude oil by\n",
      "1.50 dlrs a barrel.\n",
      "    The reduction brings its posted price for West Texas\n",
      "Intermediate to 16.00 dlrs a barrel, the copany said.\n",
      "    \"The price reduction today was made in the light of falling\n",
      "oil product prices and a weak crude oil market,\" a company\n",
      "spokeswoman said.\n",
      "    Diamond is the latest in a line of U.S. oil companies that\n",
      "have cut its contract, or posted, prices over the last two days\n",
      "citing weak oil markets.\n",
      " Reuter\n"
     ]
    }
   ],
   "source": [
    "# Save your text files in a directory, then read them into `tm` function `Corpus`**\n",
    "crude <-Corpus(DirSource(\"CorpusDataSource\"), readerControl=list(language=\"en\"))\n",
    "writeLines(as.character(crude[[1]]))"
   ]
  },
  {
   "cell_type": "code",
   "execution_count": null,
   "metadata": {},
   "outputs": [],
   "source": []
  }
 ],
 "metadata": {
  "kernelspec": {
   "display_name": "R",
   "language": "R",
   "name": "ir"
  },
  "language_info": {
   "codemirror_mode": "r",
   "file_extension": ".r",
   "mimetype": "text/x-r-source",
   "name": "R",
   "pygments_lexer": "r",
   "version": "3.4.1"
  },
  "toc": {
   "base_numbering": 1,
   "nav_menu": {},
   "number_sections": true,
   "sideBar": true,
   "skip_h1_title": false,
   "title_cell": "Table of Contents",
   "title_sidebar": "Contents",
   "toc_cell": false,
   "toc_position": {},
   "toc_section_display": true,
   "toc_window_display": false
  }
 },
 "nbformat": 4,
 "nbformat_minor": 4
}
